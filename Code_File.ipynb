{
 "cells": [
  {
   "cell_type": "markdown",
   "id": "985f40d8-781a-4323-a7f9-6fce7329a0cf",
   "metadata": {
    "id": "985f40d8-781a-4323-a7f9-6fce7329a0cf"
   },
   "source": [
    "# Explanation of the Fraud Detection Project\n",
    "\n",
    "This project revolves around analyzing a month’s worth of DoorDash delivery data to identify patterns of fraudulent transactions. The goal is to determine characteristics of fraudulent behavior and provide actionable recommendations to reduce fraud losses.\n",
    "\n",
    "## Objective:\n",
    "The primary objective of the project is to use historical transaction data to:\n",
    "1. Identify key indicators of fraudulent chargebacks.\n",
    "2. Calculate the financial impact of fraudulent activities.\n",
    "3. Make specific, data-driven recommendations to mitigate future fraud risks.\n",
    "\n",
    "The dataset includes several variables that capture order details, user behavior, and chargeback information, enabling us to perform an analysis of fraud-related behavior and derive actionable insights.\n",
    "ights\n",
    "s.\n"
   ]
  },
  {
   "cell_type": "markdown",
   "id": "f5d03f5f-a7b1-498c-b7c5-09bbad948f4a",
   "metadata": {
    "id": "f5d03f5f-a7b1-498c-b7c5-09bbad948f4a"
   },
   "source": [
    "## Features\n",
    "\n",
    "**DELIVERY_ID**\t- ID of Order\n",
    "\n",
    "**CREATED_AT** -\tTimestamp for order creation\n",
    "\n",
    "**CONSUMER_ID**\t- ID of consumer account\n",
    "\n",
    "**GOV**\t- Gross Order Value, in cents. This includes the subtotal of all items, all fees, taxes, and tip\n",
    "\n",
    "**CX_AGE_ON_DELIVERY_BASED_ON_FIRST_ORDER** - Age of consumer in days when the consumer when delivery was created, calculated from the day of the first order created by the consumer\n",
    "\n",
    "**PLATFORM** - Platform of device used upon checkout\n",
    "\n",
    "**RECEIVED_CHARGEBACK** - Whether or not this delivery has a chargeback associated with it\n",
    "\n",
    "**IS_FRAUDULENT_CHARGEBACK** -\tWhether or not the chargeback received was related to fraud reasons. This is true when the dispute reason is in ('fraudulent', 'unrecognized', 'general'), based on the information submitted to the card issuer by the card owner\n",
    "\n",
    "**CHARGEBACK_COST** - Chargeback cost in cents is the total potential cost of chargebacks to us. Each chargeback cost is compromised of the original chargeback amount (usually entire transaction amount) + a flat chargeback processing fee that is paid to our payment processor. If we 'win' the chargeback, this value goes to 0.\n",
    "\n",
    "**CX_DEVICE_ORDER_NUM**\t- The order number placed by this device + consumer\n",
    "\n",
    "**CX_ADDRESS_ORDER_NUM** -\tThe order number placed to this address by this consumer\n",
    "\n",
    "**CX_CARD_ORDER_NUM** - The order number placed using this card fingerprint by this consumer\n",
    "\n",
    "**CX_ORDER_NUM** - The order number placed by this consumer\n",
    "\n",
    "**CX_UNIQUE_ADDRESSES**\t- Total number of unique addresses this consumer has ever used up to today\n",
    "\n",
    "**UNIQUE_ADDRESS_PAST_1DAY** - \tUnique addresses this consumer has placed deliveries to in the 24 hours from this delivery creation datetime\n",
    "\n",
    "**UNIQUE_ADDRESS_PAST_7DAY** - Unique addresses this consumer has placed deliveries to in the 24 * 7 hours from this delivery creation datetime\n",
    "\n",
    "**SIFT_CREATE_ORDER_PA_SCORE** - Sift score of the event associated with this delivery creation\n",
    "\n",
    "**FAIL_CHARGES_1HR** - \tFailed charge transaction attempts in the past 1 hour from this delivery creation datetime\n",
    "\n",
    "**FAIL_CHARGES_1D** - \tFailed charge transaction attempts in the past 24 hours from this delivery creation datetime\n",
    "\n",
    "**FAIL_CHARGES_7D**\t- Failed charge transaction attempts in the past 24 * 7 hours from this delivery creation datetime\n",
    "\n",
    "**DEVICE_DELIVERIES** - Total number of deliveries placed by this device up to today\n",
    "\n",
    "**DEVICE_PCT_CHARGEBACK** - % of DEVICE_DELIVERIES that have received a chargeback\n",
    "\n",
    "**CCR_PAST_DELIVERIES**\t- Total number of deliveries placed by this consumer prior to this delivery\n",
    "\n",
    "**CCR_CHARGEBACK_DELIVERIES** - Total number of chargebacks received by this consumer prior to this delivery\n",
    "\n",
    "**CX_PCT_CHARGEBACK** -\tCCR_CHARGEBACK_DELIVERIES / CCR_PAST_DELIVERIES"
   ]
  },
  {
   "cell_type": "markdown",
   "id": "c7034d63-f0cd-4a48-9246-b5b7b8b71f8c",
   "metadata": {
    "id": "c7034d63-f0cd-4a48-9246-b5b7b8b71f8c"
   },
   "source": [
    "## Assumptions\n",
    "\n",
    "1. **Missing values in CHARGEBACK_COST**:\n",
    "   - We assume that if a chargeback cost is missing, no chargeback occurred, so we fill missing values with 0.\n",
    "\n",
    "2. **Dropping rows with missing GOV and PLATFORM**:\n",
    "   - We assume that orders without GOV (Gross Order Value) or PLATFORM data are incomplete and cannot contribute meaningfully to the analysis. Therefore, we drop these rows to avoid skewing the results.\n"
   ]
  },
  {
   "cell_type": "markdown",
   "id": "075fe406-630b-4647-a8ba-69c2bba3b679",
   "metadata": {
    "id": "075fe406-630b-4647-a8ba-69c2bba3b679"
   },
   "source": [
    "## Step 1: Data Loading and Cleaning\n",
    "\n",
    "**Objective**: Load the data and clean it to ensure that the dataset is ready for analysis. This involves handling missing values, ensuring consistency, and preparing the data for analysis.\n",
    "\n",
    "**Explanation**:\n",
    "- We load the dataset using `pandas` and inspect it for missing values.\n",
    "- Handling missing values is crucial as incomplete data can distort the analysis.\n",
    "- For columns like `CHARGEBACK_COST`, missing values likely indicate that no chargeback occurred, so we fill them with 0.\n",
    "- We drop rows with missing values for critical columns such as `GOV` (Gross Order Value) and `PLATFORM`, as they are essential for accurate analysis.\n",
    ".\n",
    "ysis.\n"
   ]
  },
  {
   "cell_type": "code",
   "execution_count": 5,
   "id": "1747c19c-4a03-4557-9ca4-6be9e183ed3d",
   "metadata": {
    "id": "1747c19c-4a03-4557-9ca4-6be9e183ed3d",
    "outputId": "f595a665-9584-4b7c-ab97-1bc7b7e551da"
   },
   "outputs": [
    {
     "data": {
      "text/html": [
       "<div>\n",
       "<style scoped>\n",
       "    .dataframe tbody tr th:only-of-type {\n",
       "        vertical-align: middle;\n",
       "    }\n",
       "\n",
       "    .dataframe tbody tr th {\n",
       "        vertical-align: top;\n",
       "    }\n",
       "\n",
       "    .dataframe thead th {\n",
       "        text-align: right;\n",
       "    }\n",
       "</style>\n",
       "<table border=\"1\" class=\"dataframe\">\n",
       "  <thead>\n",
       "    <tr style=\"text-align: right;\">\n",
       "      <th></th>\n",
       "      <th>DELIVERY_ID</th>\n",
       "      <th>CREATED_AT</th>\n",
       "      <th>CONSUMER_ID</th>\n",
       "      <th>GOV</th>\n",
       "      <th>CX_AGE_ON_DELIVERY_BASED_ON_FIRST_ORDER</th>\n",
       "      <th>PLATFORM</th>\n",
       "      <th>RECEIVED_CHARGEBACK</th>\n",
       "      <th>IS_FRAUDULENT_CHARGEBACK</th>\n",
       "      <th>CHARGEBACK_COST</th>\n",
       "      <th>CX_DEVICE_ORDER_NUM</th>\n",
       "      <th>...</th>\n",
       "      <th>UNIQUE_ADDRESS_PAST_7DAY</th>\n",
       "      <th>SIFT_CREATE_ORDER_PA_SCORE</th>\n",
       "      <th>FAIL_CHARGES_1HR</th>\n",
       "      <th>FAIL_CHARGES_1D</th>\n",
       "      <th>FAIL_CHARGES_7D</th>\n",
       "      <th>DEVICE_DELIVERIES</th>\n",
       "      <th>DEVICE_PCT_CHARGEBACK</th>\n",
       "      <th>CCR_PAST_DELIVERIES</th>\n",
       "      <th>CCR_CHARGEBACK_DELIVERIES</th>\n",
       "      <th>CX_PCT_CHARGEBACK</th>\n",
       "    </tr>\n",
       "  </thead>\n",
       "  <tbody>\n",
       "    <tr>\n",
       "      <th>0</th>\n",
       "      <td>139828699</td>\n",
       "      <td>2019-01-26T16:25:41.892442Z</td>\n",
       "      <td>61252266</td>\n",
       "      <td>4165.0</td>\n",
       "      <td>30</td>\n",
       "      <td>Android</td>\n",
       "      <td>1</td>\n",
       "      <td>1</td>\n",
       "      <td>4915.0</td>\n",
       "      <td>18</td>\n",
       "      <td>...</td>\n",
       "      <td>NaN</td>\n",
       "      <td>23.220653</td>\n",
       "      <td>0</td>\n",
       "      <td>0</td>\n",
       "      <td>0</td>\n",
       "      <td>26.0</td>\n",
       "      <td>0.884615</td>\n",
       "      <td>17.0</td>\n",
       "      <td>15.0</td>\n",
       "      <td>0.882353</td>\n",
       "    </tr>\n",
       "    <tr>\n",
       "      <th>1</th>\n",
       "      <td>131547392</td>\n",
       "      <td>2019-01-08T18:48:52.361762Z</td>\n",
       "      <td>69633333</td>\n",
       "      <td>2241.0</td>\n",
       "      <td>0</td>\n",
       "      <td>Android</td>\n",
       "      <td>1</td>\n",
       "      <td>1</td>\n",
       "      <td>3342.0</td>\n",
       "      <td>1</td>\n",
       "      <td>...</td>\n",
       "      <td>NaN</td>\n",
       "      <td>18.570850</td>\n",
       "      <td>0</td>\n",
       "      <td>0</td>\n",
       "      <td>0</td>\n",
       "      <td>25.0</td>\n",
       "      <td>0.720000</td>\n",
       "      <td>NaN</td>\n",
       "      <td>NaN</td>\n",
       "      <td>NaN</td>\n",
       "    </tr>\n",
       "    <tr>\n",
       "      <th>2</th>\n",
       "      <td>136556035</td>\n",
       "      <td>2019-01-19T19:59:37.33425Z</td>\n",
       "      <td>70766026</td>\n",
       "      <td>1608.0</td>\n",
       "      <td>11</td>\n",
       "      <td>iOS</td>\n",
       "      <td>1</td>\n",
       "      <td>1</td>\n",
       "      <td>3108.0</td>\n",
       "      <td>1</td>\n",
       "      <td>...</td>\n",
       "      <td>NaN</td>\n",
       "      <td>8.085531</td>\n",
       "      <td>0</td>\n",
       "      <td>0</td>\n",
       "      <td>0</td>\n",
       "      <td>1.0</td>\n",
       "      <td>1.000000</td>\n",
       "      <td>1.0</td>\n",
       "      <td>0.0</td>\n",
       "      <td>0.000000</td>\n",
       "    </tr>\n",
       "    <tr>\n",
       "      <th>3</th>\n",
       "      <td>137519386</td>\n",
       "      <td>2019-01-21T18:03:40.010228Z</td>\n",
       "      <td>55565116</td>\n",
       "      <td>2544.0</td>\n",
       "      <td>103</td>\n",
       "      <td>iOS</td>\n",
       "      <td>1</td>\n",
       "      <td>1</td>\n",
       "      <td>3294.0</td>\n",
       "      <td>18</td>\n",
       "      <td>...</td>\n",
       "      <td>1.0</td>\n",
       "      <td>55.224335</td>\n",
       "      <td>0</td>\n",
       "      <td>0</td>\n",
       "      <td>2</td>\n",
       "      <td>42.0</td>\n",
       "      <td>0.761905</td>\n",
       "      <td>32.0</td>\n",
       "      <td>28.0</td>\n",
       "      <td>0.875000</td>\n",
       "    </tr>\n",
       "    <tr>\n",
       "      <th>4</th>\n",
       "      <td>141914918</td>\n",
       "      <td>2019-01-30T20:06:40.560294Z</td>\n",
       "      <td>38639326</td>\n",
       "      <td>3653.0</td>\n",
       "      <td>169</td>\n",
       "      <td>iOS</td>\n",
       "      <td>1</td>\n",
       "      <td>1</td>\n",
       "      <td>4840.0</td>\n",
       "      <td>17</td>\n",
       "      <td>...</td>\n",
       "      <td>1.0</td>\n",
       "      <td>50.103519</td>\n",
       "      <td>0</td>\n",
       "      <td>0</td>\n",
       "      <td>0</td>\n",
       "      <td>18.0</td>\n",
       "      <td>0.388889</td>\n",
       "      <td>37.0</td>\n",
       "      <td>21.0</td>\n",
       "      <td>0.567568</td>\n",
       "    </tr>\n",
       "    <tr>\n",
       "      <th>...</th>\n",
       "      <td>...</td>\n",
       "      <td>...</td>\n",
       "      <td>...</td>\n",
       "      <td>...</td>\n",
       "      <td>...</td>\n",
       "      <td>...</td>\n",
       "      <td>...</td>\n",
       "      <td>...</td>\n",
       "      <td>...</td>\n",
       "      <td>...</td>\n",
       "      <td>...</td>\n",
       "      <td>...</td>\n",
       "      <td>...</td>\n",
       "      <td>...</td>\n",
       "      <td>...</td>\n",
       "      <td>...</td>\n",
       "      <td>...</td>\n",
       "      <td>...</td>\n",
       "      <td>...</td>\n",
       "      <td>...</td>\n",
       "      <td>...</td>\n",
       "    </tr>\n",
       "    <tr>\n",
       "      <th>9995</th>\n",
       "      <td>131345034</td>\n",
       "      <td>2019-01-08T00:53:30.371702Z</td>\n",
       "      <td>43310133</td>\n",
       "      <td>2172.0</td>\n",
       "      <td>183</td>\n",
       "      <td>iOS</td>\n",
       "      <td>0</td>\n",
       "      <td>0</td>\n",
       "      <td>NaN</td>\n",
       "      <td>11</td>\n",
       "      <td>...</td>\n",
       "      <td>NaN</td>\n",
       "      <td>5.179457</td>\n",
       "      <td>0</td>\n",
       "      <td>0</td>\n",
       "      <td>0</td>\n",
       "      <td>22.0</td>\n",
       "      <td>0.000000</td>\n",
       "      <td>13.0</td>\n",
       "      <td>0.0</td>\n",
       "      <td>0.000000</td>\n",
       "    </tr>\n",
       "    <tr>\n",
       "      <th>9996</th>\n",
       "      <td>133681824</td>\n",
       "      <td>2019-01-13T04:52:57.19029Z</td>\n",
       "      <td>33339275</td>\n",
       "      <td>4860.0</td>\n",
       "      <td>315</td>\n",
       "      <td>iOS</td>\n",
       "      <td>0</td>\n",
       "      <td>0</td>\n",
       "      <td>NaN</td>\n",
       "      <td>4</td>\n",
       "      <td>...</td>\n",
       "      <td>NaN</td>\n",
       "      <td>6.039735</td>\n",
       "      <td>0</td>\n",
       "      <td>0</td>\n",
       "      <td>0</td>\n",
       "      <td>23.0</td>\n",
       "      <td>0.000000</td>\n",
       "      <td>13.0</td>\n",
       "      <td>0.0</td>\n",
       "      <td>0.000000</td>\n",
       "    </tr>\n",
       "    <tr>\n",
       "      <th>9997</th>\n",
       "      <td>132964919</td>\n",
       "      <td>2019-01-12T00:05:28.126869Z</td>\n",
       "      <td>61732477</td>\n",
       "      <td>1982.0</td>\n",
       "      <td>55</td>\n",
       "      <td>iOS</td>\n",
       "      <td>0</td>\n",
       "      <td>0</td>\n",
       "      <td>NaN</td>\n",
       "      <td>14</td>\n",
       "      <td>...</td>\n",
       "      <td>NaN</td>\n",
       "      <td>12.764795</td>\n",
       "      <td>0</td>\n",
       "      <td>0</td>\n",
       "      <td>0</td>\n",
       "      <td>71.0</td>\n",
       "      <td>0.112676</td>\n",
       "      <td>13.0</td>\n",
       "      <td>0.0</td>\n",
       "      <td>0.000000</td>\n",
       "    </tr>\n",
       "    <tr>\n",
       "      <th>9998</th>\n",
       "      <td>138556548</td>\n",
       "      <td>2019-01-23T23:40:48.751849Z</td>\n",
       "      <td>48896146</td>\n",
       "      <td>3638.0</td>\n",
       "      <td>147</td>\n",
       "      <td>iOS</td>\n",
       "      <td>0</td>\n",
       "      <td>0</td>\n",
       "      <td>NaN</td>\n",
       "      <td>25</td>\n",
       "      <td>...</td>\n",
       "      <td>NaN</td>\n",
       "      <td>20.276335</td>\n",
       "      <td>0</td>\n",
       "      <td>0</td>\n",
       "      <td>0</td>\n",
       "      <td>38.0</td>\n",
       "      <td>0.000000</td>\n",
       "      <td>41.0</td>\n",
       "      <td>0.0</td>\n",
       "      <td>0.000000</td>\n",
       "    </tr>\n",
       "    <tr>\n",
       "      <th>9999</th>\n",
       "      <td>129200023</td>\n",
       "      <td>2019-01-03T17:28:46.803653Z</td>\n",
       "      <td>68639579</td>\n",
       "      <td>3412.0</td>\n",
       "      <td>6</td>\n",
       "      <td>Android</td>\n",
       "      <td>0</td>\n",
       "      <td>0</td>\n",
       "      <td>NaN</td>\n",
       "      <td>2</td>\n",
       "      <td>...</td>\n",
       "      <td>NaN</td>\n",
       "      <td>10.592283</td>\n",
       "      <td>0</td>\n",
       "      <td>0</td>\n",
       "      <td>0</td>\n",
       "      <td>4.0</td>\n",
       "      <td>0.000000</td>\n",
       "      <td>1.0</td>\n",
       "      <td>0.0</td>\n",
       "      <td>0.000000</td>\n",
       "    </tr>\n",
       "  </tbody>\n",
       "</table>\n",
       "<p>10000 rows × 25 columns</p>\n",
       "</div>"
      ],
      "text/plain": [
       "      DELIVERY_ID                   CREATED_AT  CONSUMER_ID     GOV  \\\n",
       "0       139828699  2019-01-26T16:25:41.892442Z     61252266  4165.0   \n",
       "1       131547392  2019-01-08T18:48:52.361762Z     69633333  2241.0   \n",
       "2       136556035   2019-01-19T19:59:37.33425Z     70766026  1608.0   \n",
       "3       137519386  2019-01-21T18:03:40.010228Z     55565116  2544.0   \n",
       "4       141914918  2019-01-30T20:06:40.560294Z     38639326  3653.0   \n",
       "...           ...                          ...          ...     ...   \n",
       "9995    131345034  2019-01-08T00:53:30.371702Z     43310133  2172.0   \n",
       "9996    133681824   2019-01-13T04:52:57.19029Z     33339275  4860.0   \n",
       "9997    132964919  2019-01-12T00:05:28.126869Z     61732477  1982.0   \n",
       "9998    138556548  2019-01-23T23:40:48.751849Z     48896146  3638.0   \n",
       "9999    129200023  2019-01-03T17:28:46.803653Z     68639579  3412.0   \n",
       "\n",
       "      CX_AGE_ON_DELIVERY_BASED_ON_FIRST_ORDER PLATFORM  RECEIVED_CHARGEBACK  \\\n",
       "0                                          30  Android                    1   \n",
       "1                                           0  Android                    1   \n",
       "2                                          11      iOS                    1   \n",
       "3                                         103      iOS                    1   \n",
       "4                                         169      iOS                    1   \n",
       "...                                       ...      ...                  ...   \n",
       "9995                                      183      iOS                    0   \n",
       "9996                                      315      iOS                    0   \n",
       "9997                                       55      iOS                    0   \n",
       "9998                                      147      iOS                    0   \n",
       "9999                                        6  Android                    0   \n",
       "\n",
       "      IS_FRAUDULENT_CHARGEBACK  CHARGEBACK_COST  CX_DEVICE_ORDER_NUM  ...  \\\n",
       "0                            1           4915.0                   18  ...   \n",
       "1                            1           3342.0                    1  ...   \n",
       "2                            1           3108.0                    1  ...   \n",
       "3                            1           3294.0                   18  ...   \n",
       "4                            1           4840.0                   17  ...   \n",
       "...                        ...              ...                  ...  ...   \n",
       "9995                         0              NaN                   11  ...   \n",
       "9996                         0              NaN                    4  ...   \n",
       "9997                         0              NaN                   14  ...   \n",
       "9998                         0              NaN                   25  ...   \n",
       "9999                         0              NaN                    2  ...   \n",
       "\n",
       "      UNIQUE_ADDRESS_PAST_7DAY  SIFT_CREATE_ORDER_PA_SCORE  FAIL_CHARGES_1HR  \\\n",
       "0                          NaN                   23.220653                 0   \n",
       "1                          NaN                   18.570850                 0   \n",
       "2                          NaN                    8.085531                 0   \n",
       "3                          1.0                   55.224335                 0   \n",
       "4                          1.0                   50.103519                 0   \n",
       "...                        ...                         ...               ...   \n",
       "9995                       NaN                    5.179457                 0   \n",
       "9996                       NaN                    6.039735                 0   \n",
       "9997                       NaN                   12.764795                 0   \n",
       "9998                       NaN                   20.276335                 0   \n",
       "9999                       NaN                   10.592283                 0   \n",
       "\n",
       "      FAIL_CHARGES_1D  FAIL_CHARGES_7D  DEVICE_DELIVERIES  \\\n",
       "0                   0                0               26.0   \n",
       "1                   0                0               25.0   \n",
       "2                   0                0                1.0   \n",
       "3                   0                2               42.0   \n",
       "4                   0                0               18.0   \n",
       "...               ...              ...                ...   \n",
       "9995                0                0               22.0   \n",
       "9996                0                0               23.0   \n",
       "9997                0                0               71.0   \n",
       "9998                0                0               38.0   \n",
       "9999                0                0                4.0   \n",
       "\n",
       "      DEVICE_PCT_CHARGEBACK  CCR_PAST_DELIVERIES  CCR_CHARGEBACK_DELIVERIES  \\\n",
       "0                  0.884615                 17.0                       15.0   \n",
       "1                  0.720000                  NaN                        NaN   \n",
       "2                  1.000000                  1.0                        0.0   \n",
       "3                  0.761905                 32.0                       28.0   \n",
       "4                  0.388889                 37.0                       21.0   \n",
       "...                     ...                  ...                        ...   \n",
       "9995               0.000000                 13.0                        0.0   \n",
       "9996               0.000000                 13.0                        0.0   \n",
       "9997               0.112676                 13.0                        0.0   \n",
       "9998               0.000000                 41.0                        0.0   \n",
       "9999               0.000000                  1.0                        0.0   \n",
       "\n",
       "      CX_PCT_CHARGEBACK  \n",
       "0              0.882353  \n",
       "1                   NaN  \n",
       "2              0.000000  \n",
       "3              0.875000  \n",
       "4              0.567568  \n",
       "...                 ...  \n",
       "9995           0.000000  \n",
       "9996           0.000000  \n",
       "9997           0.000000  \n",
       "9998           0.000000  \n",
       "9999           0.000000  \n",
       "\n",
       "[10000 rows x 25 columns]"
      ]
     },
     "execution_count": 5,
     "metadata": {},
     "output_type": "execute_result"
    }
   ],
   "source": [
    "import pandas as pd\n",
    "import matplotlib.pyplot as plt\n",
    "import seaborn as sns\n",
    "\n",
    "data = pd.read_excel(r\"C:\\Users\\Dhruv Khanna\\Fraud Take Home Sheet.xlsx\")\n",
    "data"
   ]
  },
  {
   "cell_type": "code",
   "execution_count": 6,
   "id": "02a5b564-15f9-42b5-80aa-9479e5f010c8",
   "metadata": {
    "id": "02a5b564-15f9-42b5-80aa-9479e5f010c8",
    "outputId": "c345eebd-4b68-45f3-9acd-50bc2a9a6193"
   },
   "outputs": [
    {
     "name": "stdout",
     "output_type": "stream",
     "text": [
      "Missing values in the dataset:\n",
      " DELIVERY_ID                                   0\n",
      "CREATED_AT                                    0\n",
      "CONSUMER_ID                                   0\n",
      "GOV                                         266\n",
      "CX_AGE_ON_DELIVERY_BASED_ON_FIRST_ORDER       0\n",
      "PLATFORM                                    395\n",
      "RECEIVED_CHARGEBACK                           0\n",
      "IS_FRAUDULENT_CHARGEBACK                      0\n",
      "CHARGEBACK_COST                            9800\n",
      "CX_DEVICE_ORDER_NUM                           0\n",
      "CX_ADDRESS_ORDER_NUM                          0\n",
      "CX_CARD_ORDER_NUM                             0\n",
      "CX_ORDER_NUM                                  0\n",
      "CX_UNIQUE_ADDRESSES                           7\n",
      "UNIQUE_ADDRESS_PAST_1DAY                   8861\n",
      "UNIQUE_ADDRESS_PAST_7DAY                   8861\n",
      "SIFT_CREATE_ORDER_PA_SCORE                  542\n",
      "FAIL_CHARGES_1HR                              0\n",
      "FAIL_CHARGES_1D                               0\n",
      "FAIL_CHARGES_7D                               0\n",
      "DEVICE_DELIVERIES                           298\n",
      "DEVICE_PCT_CHARGEBACK                       298\n",
      "CCR_PAST_DELIVERIES                        1199\n",
      "CCR_CHARGEBACK_DELIVERIES                  1199\n",
      "CX_PCT_CHARGEBACK                          1199\n",
      "dtype: int64\n"
     ]
    }
   ],
   "source": [
    "# Check for missing values\n",
    "missing_values = data.isnull().sum()\n",
    "print(\"Missing values in the dataset:\\n\", missing_values)"
   ]
  },
  {
   "cell_type": "code",
   "execution_count": 7,
   "id": "cb5dd0dc-111d-45ef-bd34-7473b57b8121",
   "metadata": {
    "id": "cb5dd0dc-111d-45ef-bd34-7473b57b8121",
    "outputId": "9757a7a4-acfc-45cf-a0bd-21c71c1ea2a6"
   },
   "outputs": [
    {
     "data": {
      "image/png": "[encoded data removed]",
      "text/plain": [
       "<Figure size 864x432 with 1 Axes>"
      ]
     },
     "metadata": {
      "needs_background": "light"
     },
     "output_type": "display_data"
    }
   ],
   "source": [
    "# Visualizing missing values as a heatmap\n",
    "plt.figure(figsize=(12, 6))\n",
    "sns.heatmap(data.isnull(), cbar=False, cmap='viridis')\n",
    "plt.title(\"Missing Values Heatmap\")\n",
    "plt.show()\n"
   ]
  },
  {
   "cell_type": "code",
   "execution_count": 8,
   "id": "e2207800-3571-41b0-9822-11532cbe2686",
   "metadata": {
    "id": "e2207800-3571-41b0-9822-11532cbe2686",
    "outputId": "d323d2c8-0a64-4179-db32-be2364cfe799"
   },
   "outputs": [
    {
     "data": {
      "image/png": "[encoded data removed]",
      "text/plain": [
       "<Figure size 720x432 with 1 Axes>"
      ]
     },
     "metadata": {
      "needs_background": "light"
     },
     "output_type": "display_data"
    }
   ],
   "source": [
    "# Count of missing values per column\n",
    "missing_values = data.isnull().sum()\n",
    "\n",
    "# Filter columns with missing values\n",
    "missing_values = missing_values[missing_values > 0]\n",
    "\n",
    "# Plot missing values as a bar chart\n",
    "plt.figure(figsize=(10, 6))\n",
    "missing_values.plot(kind='bar', color='skyblue')\n",
    "plt.title(\"Count of Missing Values per Column\")\n",
    "plt.ylabel(\"Number of Missing Values\")\n",
    "plt.xlabel(\"Columns\")\n",
    "plt.show()\n"
   ]
  },
  {
   "cell_type": "code",
   "execution_count": 9,
   "id": "c04c3a28-a805-4eb1-85cc-f7ac089591f7",
   "metadata": {
    "id": "c04c3a28-a805-4eb1-85cc-f7ac089591f7",
    "outputId": "e5c29eea-172f-4742-c0ac-93528b63577c"
   },
   "outputs": [
    {
     "name": "stdout",
     "output_type": "stream",
     "text": [
      "Missing values after cleaning:\n",
      " DELIVERY_ID                                0\n",
      "CREATED_AT                                 0\n",
      "CONSUMER_ID                                0\n",
      "GOV                                        0\n",
      "CX_AGE_ON_DELIVERY_BASED_ON_FIRST_ORDER    0\n",
      "PLATFORM                                   0\n",
      "RECEIVED_CHARGEBACK                        0\n",
      "IS_FRAUDULENT_CHARGEBACK                   0\n",
      "CHARGEBACK_COST                            0\n",
      "CX_DEVICE_ORDER_NUM                        0\n",
      "CX_ADDRESS_ORDER_NUM                       0\n",
      "CX_CARD_ORDER_NUM                          0\n",
      "CX_ORDER_NUM                               0\n",
      "CX_UNIQUE_ADDRESSES                        0\n",
      "UNIQUE_ADDRESS_PAST_1DAY                   0\n",
      "UNIQUE_ADDRESS_PAST_7DAY                   0\n",
      "SIFT_CREATE_ORDER_PA_SCORE                 0\n",
      "FAIL_CHARGES_1HR                           0\n",
      "FAIL_CHARGES_1D                            0\n",
      "FAIL_CHARGES_7D                            0\n",
      "DEVICE_DELIVERIES                          0\n",
      "DEVICE_PCT_CHARGEBACK                      0\n",
      "CCR_PAST_DELIVERIES                        0\n",
      "CCR_CHARGEBACK_DELIVERIES                  0\n",
      "CX_PCT_CHARGEBACK                          0\n",
      "dtype: int64\n"
     ]
    }
   ],
   "source": [
    "# Fill missing chargeback costs with 0\n",
    "data_cleaned = data.copy()\n",
    "data_cleaned['CHARGEBACK_COST'] = data_cleaned['CHARGEBACK_COST'].fillna(0)\n",
    "\n",
    "# Drop rows with missing GOV and PLATFORM values\n",
    "data_cleaned.dropna(subset=['GOV', 'PLATFORM'], inplace=True)\n",
    "\n",
    "# Fill remaining missing values with 0\n",
    "data_cleaned.fillna(0, inplace=True)\n",
    "\n",
    "print(\"Missing values after cleaning:\\n\", data_cleaned.isnull().sum())\n"
   ]
  },
  {
   "cell_type": "markdown",
   "id": "71892535-5d5f-404c-a208-714efd029acc",
   "metadata": {
    "id": "71892535-5d5f-404c-a208-714efd029acc"
   },
   "source": [
    "## Assumptions\n",
    "\n",
    "1. **Fraudulent transactions are correctly labeled**:\n",
    "   - We assume that the `IS_FRAUDULENT_CHARGEBACK` column correctly flags fraudulent chargebacks and that there are no misclassifications.\n",
    "\n",
    "2. **SIFT Score is a proxy for fraud risk**:\n",
    "   - We assume that a higher SIFT score correlates with higher fraud risk, based on the documentation provided. This means that SIFT score plays a significant role in identifying fraudulent behavior.\n",
    "\n",
    "3. **Gross Order Value (GOV) influences fraud behavior**:\n",
    "   - We assume that higher GOV (Gross Order Value) attracts fraudsters, who are likely trying to gain higher-value items. Therefore, analyzing GOV differences between fraudulent and non-fraudulent transactions is meaningful.\n"
   ]
  },
  {
   "cell_type": "markdown",
   "id": "6ac063de-d030-49ca-989d-2a5f7a697716",
   "metadata": {
    "id": "6ac063de-d030-49ca-989d-2a5f7a697716"
   },
   "source": [
    "## Step 2: Fraudulent Transactions Analysis\n",
    "\n",
    "**Objective**: Understand the characteristics of fraudulent transactions by comparing key metrics such as the SIFT score and Gross Order Value (GOV) for both fraudulent and non-fraudulent transactions.\n",
    "\n",
    "**Key Features**:\n",
    "- **SIFT_CREATE_ORDER_PA_SCORE**: A risk score that measures the likelihood of fraud.\n",
    "- **IS_FRAUDULENT_CHARGEBACK**: A binary variable indicating whether a chargeback is associated with fraud.\n",
    "- **GOV (Gross Order Value)**: The total value of an order.\n",
    "\n",
    "**Approach**:\n",
    "- Calculate the percentage of transactions that are flagged as fraudulent.\n",
    "- Compare the SIFT score and Gross Order Value between fraudulent and non-fraudulent transactions.\n",
    "\n",
    "**Insights from Analysis**:\n",
    "- **Fraudulent Transactions**: Around 2.04% of all transactions were flagged as fraudulent.\n",
    "- **SIFT Scores**: Fraudulent transactions have significantly higher average SIFT scores (~31.88) compared to non-fraudulent ones (~11.87), indicating that higher scores are associated with a higher probability of fraud.\n",
    "- **GOV**: The average Gross Order Value (GOV) for fraudulent transactions is higher (~3721.93 cents) compared to non-fraudulent ones (~3336.02 cents), suggesting that fraudsters often place higher-value orders.\n",
    "lue orders.\n"
   ]
  },
  {
   "cell_type": "code",
   "execution_count": 10,
   "id": "3083da55-8190-4af6-8c33-eada11ca55a1",
   "metadata": {
    "id": "3083da55-8190-4af6-8c33-eada11ca55a1",
    "outputId": "917fbac6-c654-4bb6-9868-ecf2335e3f95"
   },
   "outputs": [
    {
     "name": "stdout",
     "output_type": "stream",
     "text": [
      "Percentage of fraudulent transactions: 2.04%\n",
      "Average SIFT score for fraudulent transactions: 31.88\n",
      "Average SIFT score for non-fraudulent transactions: 11.87\n",
      "Average GOV for fraudulent transactions: 3721.93 cents\n",
      "Average GOV for non-fraudulent transactions: 3336.02 cents\n"
     ]
    }
   ],
   "source": [
    "# Calculate the number of fraudulent transactions and the percentage\n",
    "fraudulent_count = data_cleaned['IS_FRAUDULENT_CHARGEBACK'].sum()\n",
    "total_transactions = len(data_cleaned)\n",
    "fraudulent_percentage = (fraudulent_count / total_transactions) * 100\n",
    "\n",
    "# Calculate average SIFT score and GOV for fraudulent and non-fraudulent transactions\n",
    "fraudulent_data = data_cleaned[data_cleaned['IS_FRAUDULENT_CHARGEBACK'] == 1]\n",
    "non_fraudulent_data = data_cleaned[data_cleaned['IS_FRAUDULENT_CHARGEBACK'] == 0]\n",
    "\n",
    "avg_sift_fraudulent = fraudulent_data['SIFT_CREATE_ORDER_PA_SCORE'].mean()\n",
    "avg_sift_non_fraudulent = non_fraudulent_data['SIFT_CREATE_ORDER_PA_SCORE'].mean()\n",
    "\n",
    "avg_gov_fraudulent = fraudulent_data['GOV'].mean()\n",
    "avg_gov_non_fraudulent = non_fraudulent_data['GOV'].mean()\n",
    "\n",
    "# Print results\n",
    "print(f\"Percentage of fraudulent transactions: {fraudulent_percentage:.2f}%\")\n",
    "print(f\"Average SIFT score for fraudulent transactions: {avg_sift_fraudulent:.2f}\")\n",
    "print(f\"Average SIFT score for non-fraudulent transactions: {avg_sift_non_fraudulent:.2f}\")\n",
    "print(f\"Average GOV for fraudulent transactions: {avg_gov_fraudulent:.2f} cents\")\n",
    "print(f\"Average GOV for non-fraudulent transactions: {avg_gov_non_fraudulent:.2f} cents\")\n"
   ]
  },
  {
   "cell_type": "markdown",
   "id": "87a4204c-7ae0-487d-b3c5-6ecd36b31536",
   "metadata": {
    "id": "87a4204c-7ae0-487d-b3c5-6ecd36b31536"
   },
   "source": [
    "## Visualization: Fraudulent vs Non-Fraudulent Transaction Characteristics"
   ]
  },
  {
   "cell_type": "code",
   "execution_count": 11,
   "id": "ca3210fc-9f23-4b72-8318-5e6c20e52387",
   "metadata": {
    "id": "ca3210fc-9f23-4b72-8318-5e6c20e52387",
    "outputId": "71f76494-c707-4320-ab0d-f566190749fd"
   },
   "outputs": [
    {
     "data": {
      "image/png": "[encoded data removed]",
      "text/plain": [
       "<Figure size 1008x432 with 2 Axes>"
      ]
     },
     "metadata": {
      "needs_background": "light"
     },
     "output_type": "display_data"
    }
   ],
   "source": [
    "# Visualize the comparison of SIFT score and GOV for fraudulent and non-fraudulent transactions\n",
    "fig, axes = plt.subplots(1, 2, figsize=(14, 6))\n",
    "\n",
    "# SIFT Score distribution\n",
    "sns.histplot(fraudulent_data['SIFT_CREATE_ORDER_PA_SCORE'], color='red', kde=True, ax=axes[0], label=\"Fraudulent\")\n",
    "sns.histplot(non_fraudulent_data['SIFT_CREATE_ORDER_PA_SCORE'], color='blue', kde=True, ax=axes[0], label=\"Non-Fraudulent\")\n",
    "axes[0].set_title('Distribution of SIFT Scores')\n",
    "axes[0].legend()\n",
    "\n",
    "# GOV distribution\n",
    "sns.histplot(fraudulent_data['GOV'], color='red', kde=True, ax=axes[1], label=\"Fraudulent\")\n",
    "sns.histplot(non_fraudulent_data['GOV'], color='blue', kde=True, ax=axes[1], label=\"Non-Fraudulent\")\n",
    "axes[1].set_title('Distribution of GOV')\n",
    "axes[1].legend()\n",
    "\n",
    "plt.show()\n"
   ]
  },
  {
   "cell_type": "markdown",
   "id": "90c9ee9a-9ae7-4d94-ae8e-64e9531b5397",
   "metadata": {
    "id": "90c9ee9a-9ae7-4d94-ae8e-64e9531b5397"
   },
   "source": [
    "## Explanation:\n",
    "\n",
    "The visualization allows us to see the difference in distributions between fraudulent and non-fraudulent transactions. Fraudulent transactions tend to have higher SIFT scores and higher GOV."
   ]
  },
  {
   "cell_type": "markdown",
   "id": "a74653b4-b3ea-4755-adc9-14d8d8b2d7b9",
   "metadata": {
    "id": "a74653b4-b3ea-4755-adc9-14d8d8b2d7b9"
   },
   "source": [
    "## Step 3: Financial Impact of Fraud\n",
    "\n",
    "**Assumptions**:\n",
    "1. **Chargeback cost accurately reflects the financial loss**:\n",
    "   - We assume that the `CHARGEBACK_COST` variable correctly captures the total cost of chargebacks, including transaction amounts and processing fees. If we \"win\" a chargeback, the cost becomes 0, so only true financial losses are recorded.\n",
    "\n",
    "2. **All fraudulent chargebacks result in financial loss**:\n",
    "   - We assume that every flagged fraudulent chargeback (non-zero cost) resulted in a real financial loss, and none of the transactions were later successfully disputed in favor of the company.\n"
   ]
  },
  {
   "cell_type": "markdown",
   "id": "de8cc064-5b84-481d-bf3e-7b362fc32b04",
   "metadata": {
    "id": "de8cc064-5b84-481d-bf3e-7b362fc32b04"
   },
   "source": [
    "## Step 3: Financial Impact of Fraud\n",
    "\n",
    "**Objective**: Quantify the financial loss caused by fraudulent chargebacks.\n",
    "\n",
    "**Approach**:\n",
    "- We calculate the total chargeback cost for all fraudulent transactions.\n",
    "- This gives a clear picture of how much the company is losing due to fraud.\n",
    "\n",
    "**Result**:\n",
    "- The total financial loss due to fraudulent chargebacks amounts to **$8,267.58**. This significant cost highlights the importance of detecting and preventing fraud in real-time.\n",
    "time.\n"
   ]
  },
  {
   "cell_type": "code",
   "execution_count": 12,
   "id": "d2feede7-75a5-4cb4-ab65-8a6c35bab12b",
   "metadata": {
    "id": "d2feede7-75a5-4cb4-ab65-8a6c35bab12b",
    "outputId": "ceaa80e8-c56b-41d0-bb2f-ec702cd80879"
   },
   "outputs": [
    {
     "name": "stdout",
     "output_type": "stream",
     "text": [
      "Total financial loss due to fraudulent chargebacks: $8267.58\n"
     ]
    }
   ],
   "source": [
    "# Calculate total financial loss due to fraudulent chargebacks\n",
    "total_fraudulent_cost = fraudulent_data['CHARGEBACK_COST'].sum()\n",
    "\n",
    "print(f\"Total financial loss due to fraudulent chargebacks: ${total_fraudulent_cost / 100:.2f}\")\n"
   ]
  },
  {
   "cell_type": "markdown",
   "id": "d1d19718-c50c-4ef8-abd4-44af3c5337ef",
   "metadata": {
    "id": "d1d19718-c50c-4ef8-abd4-44af3c5337ef"
   },
   "source": [
    "## Visualization: Chargeback Cost Analysis"
   ]
  },
  {
   "cell_type": "code",
   "execution_count": 13,
   "id": "32236664-5cb1-4f6a-8cab-f1945d3e5c91",
   "metadata": {
    "id": "32236664-5cb1-4f6a-8cab-f1945d3e5c91",
    "outputId": "399d267a-fbf1-473c-c153-8dcb6827a40a"
   },
   "outputs": [
    {
     "data": {
      "image/png": "[encoded data removed]",
      "text/plain": [
       "<Figure size 576x432 with 1 Axes>"
      ]
     },
     "metadata": {
      "needs_background": "light"
     },
     "output_type": "display_data"
    }
   ],
   "source": [
    "# Visualize chargeback cost distribution for fraudulent transactions\n",
    "plt.figure(figsize=(8, 6))\n",
    "sns.histplot(fraudulent_data['CHARGEBACK_COST'], kde=True, color='orange')\n",
    "plt.title('Distribution of Chargeback Costs for Fraudulent Transactions')\n",
    "plt.xlabel('Chargeback Cost (in cents)')\n",
    "plt.ylabel('Frequency')\n",
    "plt.show()\n"
   ]
  },
  {
   "cell_type": "markdown",
   "id": "771c88d5-4ffa-49f5-a994-6b6d043cb1ba",
   "metadata": {
    "id": "771c88d5-4ffa-49f5-a994-6b6d043cb1ba"
   },
   "source": [
    "## Explanation:\n",
    "\n",
    "This visualization shows how chargeback costs are distributed among fraudulent transactions. The peak indicates the most common chargeback cost range, providing insight into typical financial impacts."
   ]
  },
  {
   "cell_type": "markdown",
   "id": "054a0d3e-f061-4472-8c82-cec2ed24f83a",
   "metadata": {
    "id": "054a0d3e-f061-4472-8c82-cec2ed24f83a"
   },
   "source": [
    "## Step 4: Correlation Analysis\n",
    "\n",
    "**Assumptions**:\n",
    "1. **Correlation indicates potential causality**:\n",
    "   - While correlation does not prove causation, we assume that higher correlations between variables (e.g., SIFT score and fraudulent chargebacks) can be useful proxies for identifying fraud risk.\n",
    "\n",
    "2. **Failed charge attempts are legitimate indicators of fraud**:\n",
    "   - We assume that repeated failed charge attempts (within an hour, day, or week) are a signal of suspicious activity and are likely correlated with fraud, although they show a weaker correlation in the analysis.\n"
   ]
  },
  {
   "cell_type": "markdown",
   "id": "231a5e20-c84b-459e-b696-9f399cf22daa",
   "metadata": {
    "id": "231a5e20-c84b-459e-b696-9f399cf22daa"
   },
   "source": [
    "## Step 4: Correlation Analysis\n",
    "\n",
    "**Objective**: Understand which variables are most correlated with fraudulent behavior.\n",
    "\n",
    "**Approach**:\n",
    "- We compute the correlation matrix for key variables such as SIFT score, failed charges, chargeback cost, and fraudulent chargebacks.\n",
    "- Correlation analysis helps identify which factors are most associated with fraud, allowing us to focus on those areas for prevention strategies.\n",
    "\n",
    "**Results**:\n",
    "- **SIFT Score** has a moderate positive correlation (0.30) with fraudulent chargebacks.\n",
    "- **CHARGEBACK_COST** shows a strong correlation (0.84) with fraudulent chargebacks, as expected.\n",
    "- **Failed Charges** (in the last 1 hour, day, and 7 days) have weaker correlations with fraud, which suggests they may not be as strong indicators as expected.\n"
   ]
  },
  {
   "cell_type": "code",
   "execution_count": 14,
   "id": "12c4e535-5b67-47d0-9a29-227eb563079f",
   "metadata": {
    "id": "12c4e535-5b67-47d0-9a29-227eb563079f",
    "outputId": "294aa7e8-e6d0-4605-f524-66b881edfa17"
   },
   "outputs": [
    {
     "data": {
      "text/html": [
       "<div>\n",
       "<style scoped>\n",
       "    .dataframe tbody tr th:only-of-type {\n",
       "        vertical-align: middle;\n",
       "    }\n",
       "\n",
       "    .dataframe tbody tr th {\n",
       "        vertical-align: top;\n",
       "    }\n",
       "\n",
       "    .dataframe thead th {\n",
       "        text-align: right;\n",
       "    }\n",
       "</style>\n",
       "<table border=\"1\" class=\"dataframe\">\n",
       "  <thead>\n",
       "    <tr style=\"text-align: right;\">\n",
       "      <th></th>\n",
       "      <th>SIFT_CREATE_ORDER_PA_SCORE</th>\n",
       "      <th>FAIL_CHARGES_1HR</th>\n",
       "      <th>FAIL_CHARGES_1D</th>\n",
       "      <th>FAIL_CHARGES_7D</th>\n",
       "      <th>CHARGEBACK_COST</th>\n",
       "      <th>IS_FRAUDULENT_CHARGEBACK</th>\n",
       "    </tr>\n",
       "  </thead>\n",
       "  <tbody>\n",
       "    <tr>\n",
       "      <th>SIFT_CREATE_ORDER_PA_SCORE</th>\n",
       "      <td>1.000000</td>\n",
       "      <td>0.149084</td>\n",
       "      <td>0.213279</td>\n",
       "      <td>0.215754</td>\n",
       "      <td>0.261181</td>\n",
       "      <td>0.300771</td>\n",
       "    </tr>\n",
       "    <tr>\n",
       "      <th>FAIL_CHARGES_1HR</th>\n",
       "      <td>0.149084</td>\n",
       "      <td>1.000000</td>\n",
       "      <td>0.784315</td>\n",
       "      <td>0.385099</td>\n",
       "      <td>0.094695</td>\n",
       "      <td>0.087535</td>\n",
       "    </tr>\n",
       "    <tr>\n",
       "      <th>FAIL_CHARGES_1D</th>\n",
       "      <td>0.213279</td>\n",
       "      <td>0.784315</td>\n",
       "      <td>1.000000</td>\n",
       "      <td>0.466849</td>\n",
       "      <td>0.134322</td>\n",
       "      <td>0.142289</td>\n",
       "    </tr>\n",
       "    <tr>\n",
       "      <th>FAIL_CHARGES_7D</th>\n",
       "      <td>0.215754</td>\n",
       "      <td>0.385099</td>\n",
       "      <td>0.466849</td>\n",
       "      <td>1.000000</td>\n",
       "      <td>0.188793</td>\n",
       "      <td>0.199510</td>\n",
       "    </tr>\n",
       "    <tr>\n",
       "      <th>CHARGEBACK_COST</th>\n",
       "      <td>0.261181</td>\n",
       "      <td>0.094695</td>\n",
       "      <td>0.134322</td>\n",
       "      <td>0.188793</td>\n",
       "      <td>1.000000</td>\n",
       "      <td>0.835023</td>\n",
       "    </tr>\n",
       "    <tr>\n",
       "      <th>IS_FRAUDULENT_CHARGEBACK</th>\n",
       "      <td>0.300771</td>\n",
       "      <td>0.087535</td>\n",
       "      <td>0.142289</td>\n",
       "      <td>0.199510</td>\n",
       "      <td>0.835023</td>\n",
       "      <td>1.000000</td>\n",
       "    </tr>\n",
       "  </tbody>\n",
       "</table>\n",
       "</div>"
      ],
      "text/plain": [
       "                            SIFT_CREATE_ORDER_PA_SCORE  FAIL_CHARGES_1HR  \\\n",
       "SIFT_CREATE_ORDER_PA_SCORE                    1.000000          0.149084   \n",
       "FAIL_CHARGES_1HR                              0.149084          1.000000   \n",
       "FAIL_CHARGES_1D                               0.213279          0.784315   \n",
       "FAIL_CHARGES_7D                               0.215754          0.385099   \n",
       "CHARGEBACK_COST                               0.261181          0.094695   \n",
       "IS_FRAUDULENT_CHARGEBACK                      0.300771          0.087535   \n",
       "\n",
       "                            FAIL_CHARGES_1D  FAIL_CHARGES_7D  CHARGEBACK_COST  \\\n",
       "SIFT_CREATE_ORDER_PA_SCORE         0.213279         0.215754         0.261181   \n",
       "FAIL_CHARGES_1HR                   0.784315         0.385099         0.094695   \n",
       "FAIL_CHARGES_1D                    1.000000         0.466849         0.134322   \n",
       "FAIL_CHARGES_7D                    0.466849         1.000000         0.188793   \n",
       "CHARGEBACK_COST                    0.134322         0.188793         1.000000   \n",
       "IS_FRAUDULENT_CHARGEBACK           0.142289         0.199510         0.835023   \n",
       "\n",
       "                            IS_FRAUDULENT_CHARGEBACK  \n",
       "SIFT_CREATE_ORDER_PA_SCORE                  0.300771  \n",
       "FAIL_CHARGES_1HR                            0.087535  \n",
       "FAIL_CHARGES_1D                             0.142289  \n",
       "FAIL_CHARGES_7D                             0.199510  \n",
       "CHARGEBACK_COST                             0.835023  \n",
       "IS_FRAUDULENT_CHARGEBACK                    1.000000  "
      ]
     },
     "execution_count": 14,
     "metadata": {},
     "output_type": "execute_result"
    }
   ],
   "source": [
    "# Calculate correlation matrix for key variables\n",
    "correlation_matrix = data_cleaned[['SIFT_CREATE_ORDER_PA_SCORE', 'FAIL_CHARGES_1HR', 'FAIL_CHARGES_1D', 'FAIL_CHARGES_7D', 'CHARGEBACK_COST', 'IS_FRAUDULENT_CHARGEBACK']].corr()\n",
    "\n",
    "\n",
    "\n",
    "correlation_matrix"
   ]
  },
  {
   "cell_type": "markdown",
   "id": "79c158af-9c8a-4b8d-9680-6eacfc067eb5",
   "metadata": {
    "id": "79c158af-9c8a-4b8d-9680-6eacfc067eb5"
   },
   "source": [
    "## Visualization: Correlation Heatmap"
   ]
  },
  {
   "cell_type": "code",
   "execution_count": 15,
   "id": "64247d86-0563-4429-8ca4-1c75cee8edf5",
   "metadata": {
    "id": "64247d86-0563-4429-8ca4-1c75cee8edf5",
    "outputId": "e05de844-898a-4ac9-a725-e873584c1ffa"
   },
   "outputs": [
    {
     "data": {
      "image/png": "[encoded data removed]",
      "text/plain": [
       "<Figure size 720x576 with 2 Axes>"
      ]
     },
     "metadata": {
      "needs_background": "light"
     },
     "output_type": "display_data"
    }
   ],
   "source": [
    "# Plot a heatmap to visualize correlations\n",
    "plt.figure(figsize=(10, 8))\n",
    "sns.heatmap(correlation_matrix, annot=True, cmap='coolwarm', vmin=-1, vmax=1)\n",
    "plt.title('Correlation Heatmap of Key Variables')\n",
    "plt.show()\n"
   ]
  },
  {
   "cell_type": "markdown",
   "id": "631e588a-f709-459f-bbd1-e977372d1570",
   "metadata": {
    "id": "631e588a-f709-459f-bbd1-e977372d1570"
   },
   "source": [
    "## Explanation:\n",
    "\n",
    "The heatmap helps us quickly identify the strength of relationships between variables. For instance:\n",
    "\n",
    "SIFT score shows a moderate correlation with fraudulent chargebacks.\n",
    "Failed charges have weaker correlations with fraud, which might indicate they’re less reliable as standalone fraud indicators."
   ]
  },
  {
   "cell_type": "markdown",
   "id": "ceaccc69-a6f2-416b-8eef-943e7071f95e",
   "metadata": {
    "id": "ceaccc69-a6f2-416b-8eef-943e7071f95e"
   },
   "source": [
    "## Step 5: Visualizations\n",
    "**Assumptions**\n",
    "\n",
    "1. **Visual trends indicate general patterns**:\n",
    "   - We assume that the distributions of SIFT scores and GOV reflect meaningful differences between fraudulent and non-fraudulent transactions. Visualization is used to explore these trends, but statistical significance is determined through further tests if necessary.\n",
    "   \n",
    "\n",
    "2. **Correlation heatmaps provide actionable insights**:\n",
    "   - We assume that the correlation heatmap helps in understanding the relationships between variables. We base recommendations for fraud prevention on these insights, despite the inherent limitations of correlation analysis.\n"
   ]
  },
  {
   "cell_type": "markdown",
   "id": "cc1af3b3-5022-4858-ae28-741afec37542",
   "metadata": {
    "id": "cc1af3b3-5022-4858-ae28-741afec37542"
   },
   "source": [
    "## Step 5: Visualizations\n",
    "\n",
    "**Visualizations** help us to interpret the data more clearly. We visualize:\n",
    "1. **SIFT Scores** for fraudulent and non-fraudulent transactions.\n",
    "2. **Gross Order Value (GOV)** distribution for fraudulent and non-fraudulent transactions.\n",
    "3. **Correlation Heatmap** to highlight the relationships between variables.\n",
    "\n",
    "**Results**:\n",
    "- The **SIFT Score distribution** shows that fraudulent transactions tend to have higher SIFT scores, supporting the idea that this score can be a good predictor of fraud.\n",
    "- The **Gross Order Value (GOV) distribution** highlights that fraudulent transactions tend to involve higher-value orders.\n",
    "- The **Correlation Heatmap** provides a visual summary of how strongly different variables relate to fraudulent chargebacks.\n"
   ]
  },
  {
   "cell_type": "code",
   "execution_count": 25,
   "id": "d012fdc1-ab5e-4e29-862a-be0b5db68151",
   "metadata": {
    "id": "d012fdc1-ab5e-4e29-862a-be0b5db68151"
   },
   "outputs": [],
   "source": [
    "from sklearn.model_selection import train_test_split\n",
    "from sklearn.preprocessing import StandardScaler"
   ]
  },
  {
   "cell_type": "markdown",
   "id": "9cf7dfb1-10a7-40ef-83d8-2299e983bab2",
   "metadata": {
    "id": "9cf7dfb1-10a7-40ef-83d8-2299e983bab2"
   },
   "source": [
    "## Explanation\n",
    "\n",
    "The first step in any machine learning process is data preparation. This includes selecting the most relevant features (columns) that are likely to help the model make accurate predictions. We also handle missing values to ensure the dataset is clean and doesn't cause issues during model training.\n",
    "\n",
    "## Assumptions\n",
    "\n",
    "1. **Features**: We assume that the selected features (e.g., SIFT score, failed charge attempts, Gross Order Value) are informative and relevant to the prediction task.\n",
    "\n",
    "2. **Missing Values**: Missing values in key columns like `CHARGEBACK_COST` are assumed to mean no chargeback occurred, and thus, they are filled with 0.\n"
   ]
  },
  {
   "cell_type": "code",
   "execution_count": 17,
   "id": "50163aa4-e1ce-45c7-b8b1-d3b093816f50",
   "metadata": {
    "id": "50163aa4-e1ce-45c7-b8b1-d3b093816f50"
   },
   "outputs": [],
   "source": [
    "# Select relevant features for the model\n",
    "features = [\n",
    "    'SIFT_CREATE_ORDER_PA_SCORE', 'FAIL_CHARGES_1HR', 'FAIL_CHARGES_1D',\n",
    "    'FAIL_CHARGES_7D', 'GOV', 'CX_DEVICE_ORDER_NUM', 'CX_CARD_ORDER_NUM'\n",
    "]\n",
    "X = data_cleaned[features]\n",
    "y = data_cleaned['IS_FRAUDULENT_CHARGEBACK']  # Target variable\n",
    "\n",
    "# Split the data into training and testing sets (80% training, 20% testing)\n",
    "X_train, X_test, y_train, y_test = train_test_split(X, y, test_size=0.2, random_state=42)\n",
    "\n",
    "# Standardize the feature data (important for some models like Logistic Regression)\n",
    "scaler = StandardScaler()\n",
    "X_train_scaled = scaler.fit_transform(X_train)\n",
    "X_test_scaled = scaler.transform(X_test)"
   ]
  },
  {
   "cell_type": "code",
   "execution_count": 18,
   "id": "a663cb4c-b15c-4a89-8211-e92f4b2d9281",
   "metadata": {
    "id": "a663cb4c-b15c-4a89-8211-e92f4b2d9281"
   },
   "outputs": [],
   "source": [
    "from sklearn.ensemble import RandomForestClassifier\n",
    "from sklearn.metrics import accuracy_score, precision_score, recall_score, f1_score, confusion_matrix\n",
    "\n",
    "# Initialize the Random Forest model\n",
    "rf_model = RandomForestClassifier(n_estimators=100, random_state=42)\n",
    "\n",
    "# Train the model on the training data\n",
    "rf_model.fit(X_train_scaled, y_train)\n",
    "\n",
    "# Make predictions on the test data\n",
    "y_pred = rf_model.predict(X_test_scaled)\n"
   ]
  },
  {
   "cell_type": "code",
   "execution_count": 19,
   "id": "ae44fcd8-5547-470e-9354-c272db862b9c",
   "metadata": {
    "id": "ae44fcd8-5547-470e-9354-c272db862b9c",
    "outputId": "bd46a9a8-aa31-4f00-d89d-a777324d4e4e"
   },
   "outputs": [
    {
     "data": {
      "image/png": "[encoded data removed]",
      "text/plain": [
       "<Figure size 576x432 with 1 Axes>"
      ]
     },
     "metadata": {
      "needs_background": "light"
     },
     "output_type": "display_data"
    }
   ],
   "source": [
    "from sklearn.metrics import roc_curve, auc\n",
    "\n",
    "# Generate the ROC curve data\n",
    "y_pred_prob = rf_model.predict_proba(X_test_scaled)[:,1]\n",
    "fpr, tpr, thresholds = roc_curve(y_test, y_pred_prob)\n",
    "\n",
    "# Calculate the area under the ROC curve (AUC)\n",
    "roc_auc = auc(fpr, tpr)\n",
    "\n",
    "# Plot the ROC curve\n",
    "plt.figure(figsize=(8,6))\n",
    "plt.plot(fpr, tpr, color='darkorange', lw=2, label='ROC curve (area = %0.2f)' % roc_auc)\n",
    "plt.plot([0, 1], [0, 1], color='navy', lw=2, linestyle='--')\n",
    "plt.xlim([0.0, 1.0])\n",
    "plt.ylim([0.0, 1.05])\n",
    "plt.xlabel('False Positive Rate')\n",
    "plt.ylabel('True Positive Rate')\n",
    "plt.title('Receiver Operating Characteristic (ROC) Curve')\n",
    "plt.legend(loc=\"lower right\")\n",
    "plt.show()\n"
   ]
  },
  {
   "cell_type": "markdown",
   "id": "f436a054-b843-41e4-be88-bb8e40a5d1d6",
   "metadata": {
    "id": "f436a054-b843-41e4-be88-bb8e40a5d1d6"
   },
   "source": [
    "## Explanation\n",
    "\n",
    "After training the model, we evaluate its performance using metrics such as accuracy, precision, recall, and F1-score. These metrics help us understand how well the model is distinguishing between fraudulent and non-fraudulent transactions.\n",
    "Additionally, we compute a confusion matrix to visualize the number of correct and incorrect predictions.\n",
    "\n",
    "## Assumptions\n",
    "\n",
    "1. **Accuracy and Other Metrics**: We assume that the evaluation metrics provide a reliable indication of the model's performance. For example, precision measures how many predicted frauds were actually fraud, and recall measures how many actual frauds were identified.\n",
    "\n",
    "2. **Balanced Dataset**: We assume that the dataset has a reasonable balance of fraudulent and non-fraudulent transactions. If the dataset is imbalanced (i.e., far more non-fraudulent transactions than fraudulent ones), we might need to use techniques like class weighting or resampling.\n"
   ]
  },
  {
   "cell_type": "code",
   "execution_count": 20,
   "id": "491a67d2-644a-4101-9509-7ed00ccf9c65",
   "metadata": {
    "id": "491a67d2-644a-4101-9509-7ed00ccf9c65",
    "outputId": "4e7e333b-a51a-41e2-e0ae-a38ca13fe3e3"
   },
   "outputs": [
    {
     "name": "stdout",
     "output_type": "stream",
     "text": [
      "Accuracy: 0.98\n",
      "Precision: 0.58\n",
      "Recall: 0.15\n",
      "F1 Score: 0.23\n",
      "Confusion Matrix:\n",
      "[[1818    5]\n",
      " [  41    7]]\n"
     ]
    }
   ],
   "source": [
    "# Evaluate the model\n",
    "accuracy = accuracy_score(y_test, y_pred)\n",
    "precision = precision_score(y_test, y_pred)\n",
    "recall = recall_score(y_test, y_pred)\n",
    "f1 = f1_score(y_test, y_pred)\n",
    "\n",
    "# Print out the evaluation metrics\n",
    "print(f\"Accuracy: {accuracy:.2f}\")\n",
    "print(f\"Precision: {precision:.2f}\")\n",
    "print(f\"Recall: {recall:.2f}\")\n",
    "print(f\"F1 Score: {f1:.2f}\")\n",
    "\n",
    "# Confusion matrix\n",
    "cm = confusion_matrix(y_test, y_pred)\n",
    "print(\"Confusion Matrix:\")\n",
    "print(cm)\n"
   ]
  },
  {
   "cell_type": "code",
   "execution_count": 21,
   "id": "c4fa3136-1290-4b3d-8fd9-5e682902cd8d",
   "metadata": {
    "id": "c4fa3136-1290-4b3d-8fd9-5e682902cd8d",
    "outputId": "b855b829-8397-44be-948b-e6abe8772031"
   },
   "outputs": [
    {
     "data": {
      "image/png": "[encoded data removed]",
      "text/plain": [
       "<Figure size 432x288 with 2 Axes>"
      ]
     },
     "metadata": {
      "needs_background": "light"
     },
     "output_type": "display_data"
    }
   ],
   "source": [
    "import seaborn as sns\n",
    "import matplotlib.pyplot as plt\n",
    "from sklearn.metrics import confusion_matrix\n",
    "\n",
    "# Generate the confusion matrix\n",
    "cm = confusion_matrix(y_test, y_pred)\n",
    "\n",
    "# Create a heatmap for the confusion matrix\n",
    "plt.figure(figsize=(6,4))\n",
    "sns.heatmap(cm, annot=True, fmt=\"d\", cmap=\"Blues\", xticklabels=['Non-Fraud', 'Fraud'], yticklabels=['Non-Fraud', 'Fraud'])\n",
    "plt.title(\"Confusion Matrix\")\n",
    "plt.ylabel('True Label')\n",
    "plt.xlabel('Predicted Label')\n",
    "plt.show()\n"
   ]
  },
  {
   "cell_type": "markdown",
   "id": "f40f4323-3ba5-48f1-9f0d-9c8d9820bff1",
   "metadata": {
    "id": "f40f4323-3ba5-48f1-9f0d-9c8d9820bff1"
   },
   "source": [
    "## Explanation\n",
    "\n",
    "One of the advantages of Random Forest is that it provides feature importance, which tells us how important each feature is in predicting fraud. This allows us to better understand which features are most influential in identifying fraudulent transactions.\n",
    "\n",
    "## Assumptions\n",
    "\n",
    "1. **Feature Importance**: We assume that the feature importance scores provided by the Random Forest are reliable indicators of how much each feature contributes to the model’s predictions.\n"
   ]
  },
  {
   "cell_type": "code",
   "execution_count": 22,
   "id": "d1833c87-531f-4280-a654-6e215a2768e2",
   "metadata": {
    "id": "d1833c87-531f-4280-a654-6e215a2768e2",
    "outputId": "ce40f8f2-9d42-44db-de7d-d5b1ee4ac7ba"
   },
   "outputs": [
    {
     "data": {
      "text/html": [
       "<div>\n",
       "<style scoped>\n",
       "    .dataframe tbody tr th:only-of-type {\n",
       "        vertical-align: middle;\n",
       "    }\n",
       "\n",
       "    .dataframe tbody tr th {\n",
       "        vertical-align: top;\n",
       "    }\n",
       "\n",
       "    .dataframe thead th {\n",
       "        text-align: right;\n",
       "    }\n",
       "</style>\n",
       "<table border=\"1\" class=\"dataframe\">\n",
       "  <thead>\n",
       "    <tr style=\"text-align: right;\">\n",
       "      <th></th>\n",
       "      <th>Feature</th>\n",
       "      <th>Importance</th>\n",
       "    </tr>\n",
       "  </thead>\n",
       "  <tbody>\n",
       "    <tr>\n",
       "      <th>0</th>\n",
       "      <td>SIFT_CREATE_ORDER_PA_SCORE</td>\n",
       "      <td>0.418404</td>\n",
       "    </tr>\n",
       "    <tr>\n",
       "      <th>4</th>\n",
       "      <td>GOV</td>\n",
       "      <td>0.294924</td>\n",
       "    </tr>\n",
       "    <tr>\n",
       "      <th>5</th>\n",
       "      <td>CX_DEVICE_ORDER_NUM</td>\n",
       "      <td>0.105750</td>\n",
       "    </tr>\n",
       "    <tr>\n",
       "      <th>6</th>\n",
       "      <td>CX_CARD_ORDER_NUM</td>\n",
       "      <td>0.099738</td>\n",
       "    </tr>\n",
       "    <tr>\n",
       "      <th>3</th>\n",
       "      <td>FAIL_CHARGES_7D</td>\n",
       "      <td>0.047211</td>\n",
       "    </tr>\n",
       "    <tr>\n",
       "      <th>2</th>\n",
       "      <td>FAIL_CHARGES_1D</td>\n",
       "      <td>0.019073</td>\n",
       "    </tr>\n",
       "    <tr>\n",
       "      <th>1</th>\n",
       "      <td>FAIL_CHARGES_1HR</td>\n",
       "      <td>0.014900</td>\n",
       "    </tr>\n",
       "  </tbody>\n",
       "</table>\n",
       "</div>"
      ],
      "text/plain": [
       "                      Feature  Importance\n",
       "0  SIFT_CREATE_ORDER_PA_SCORE    0.418404\n",
       "4                         GOV    0.294924\n",
       "5         CX_DEVICE_ORDER_NUM    0.105750\n",
       "6           CX_CARD_ORDER_NUM    0.099738\n",
       "3             FAIL_CHARGES_7D    0.047211\n",
       "2             FAIL_CHARGES_1D    0.019073\n",
       "1            FAIL_CHARGES_1HR    0.014900"
      ]
     },
     "execution_count": 22,
     "metadata": {},
     "output_type": "execute_result"
    }
   ],
   "source": [
    "# Get the feature importance from the model\n",
    "feature_importance = rf_model.feature_importances_\n",
    "\n",
    "# Create a DataFrame for better visualization\n",
    "importances_df = pd.DataFrame({\n",
    "    'Feature': features,\n",
    "    'Importance': feature_importance\n",
    "}).sort_values(by='Importance', ascending=False)\n",
    "\n",
    "# Display the feature importances\n",
    "importances_df\n"
   ]
  },
  {
   "cell_type": "code",
   "execution_count": 23,
   "id": "ff4e8aa7-e634-4e9b-9d1b-77f537f4d68f",
   "metadata": {
    "id": "ff4e8aa7-e634-4e9b-9d1b-77f537f4d68f",
    "outputId": "9691b476-d6a2-4fdc-ba15-c4cb0fdf7da3"
   },
   "outputs": [
    {
     "data": {
      "image/png": "[encoded data removed]",
      "text/plain": [
       "<Figure size 720x432 with 1 Axes>"
      ]
     },
     "metadata": {
      "needs_background": "light"
     },
     "output_type": "display_data"
    }
   ],
   "source": [
    "import pandas as pd\n",
    "import matplotlib.pyplot as plt\n",
    "\n",
    "# Get feature importance from the model\n",
    "feature_importance = rf_model.feature_importances_\n",
    "\n",
    "# Create a DataFrame to display feature importance\n",
    "importances_df = pd.DataFrame({\n",
    "    'Feature': features,\n",
    "    'Importance': feature_importance\n",
    "}).sort_values(by='Importance', ascending=False)\n",
    "\n",
    "# Plot feature importance\n",
    "plt.figure(figsize=(10, 6))\n",
    "sns.barplot(x='Importance', y='Feature', data=importances_df, palette='Blues_d')\n",
    "plt.title('Feature Importance for Fraud Detection Model')\n",
    "plt.xlabel('Importance')\n",
    "plt.ylabel('Feature')\n",
    "plt.show()\n"
   ]
  },
  {
   "cell_type": "markdown",
   "id": "449528ef-d65a-453a-909a-1d476a8a0d17",
   "metadata": {
    "id": "449528ef-d65a-453a-909a-1d476a8a0d17"
   },
   "source": [
    "## Explanation\n",
    "\n",
    "Once the model is trained and evaluated, it can be used to make predictions on new transactions. For example, if a new transaction comes in, we can use the model to predict whether it is likely to be fraudulent.\n"
   ]
  },
  {
   "cell_type": "code",
   "execution_count": 24,
   "id": "f3e96b06-31ec-4717-a305-127a232fea39",
   "metadata": {
    "id": "f3e96b06-31ec-4717-a305-127a232fea39",
    "outputId": "0355e762-f2d0-4df4-924d-20c644fcaee0"
   },
   "outputs": [
    {
     "name": "stdout",
     "output_type": "stream",
     "text": [
      "Fraud Prediction (1 = Fraudulent, 0 = Non-Fraudulent): [0]\n"
     ]
    },
    {
     "name": "stderr",
     "output_type": "stream",
     "text": [
      "D:\\Anaconda\\lib\\site-packages\\sklearn\\base.py:450: UserWarning: X does not have valid feature names, but StandardScaler was fitted with feature names\n",
      "  warnings.warn(\n"
     ]
    }
   ],
   "source": [
    "# Example: Predict whether a new transaction is fraudulent\n",
    "new_transaction = [[30, 1, 0, 0, 3500, 10, 5]]  # Example data\n",
    "new_transaction_scaled = scaler.transform(new_transaction)\n",
    "\n",
    "fraud_prediction = rf_model.predict(new_transaction_scaled)\n",
    "print(\"Fraud Prediction (1 = Fraudulent, 0 = Non-Fraudulent):\", fraud_prediction)\n"
   ]
  },
  {
   "cell_type": "markdown",
   "id": "2d8b615f-0140-4c1d-ab6b-0ce200d628ad",
   "metadata": {
    "id": "2d8b615f-0140-4c1d-ab6b-0ce200d628ad"
   },
   "source": [
    "## Assumptions\n",
    "\n",
    "1. **Higher SIFT scores should trigger more scrutiny**:\n",
    "   - We assume that SIFT scores reliably indicate fraud risk and that setting a threshold (e.g., 30) will help catch fraudulent transactions early. This is based on the moderate correlation observed between SIFT scores and fraudulent chargebacks.\n",
    "\n",
    "2. **Failed charges are meaningful but secondary**:\n",
    "   - We assume that failed charges (particularly within the last hour or day) are indicators of fraud but are less reliable than SIFT scores. Monitoring these events can help catch additional fraudsters, but it is not the primary indicator.\n",
    "\n",
    "3. **Higher GOV transactions are more likely to be fraudulent**:\n",
    "   - We assume that fraudsters target higher-value orders, making GOV a key factor to monitor. Applying stricter verification processes to higher-value transactions will help reduce fraud risks.\n",
    "\n",
    "4. **Chargeback costs capture the full financial impact**:\n",
    "   - We assume that the chargeback costs represent the total financial exposure to fraud and that these costs are accurately captured in the dataset.\n"
   ]
  },
  {
   "cell_type": "markdown",
   "id": "94f17acc-f077-4227-a763-2404612b0f93",
   "metadata": {
    "id": "94f17acc-f077-4227-a763-2404612b0f93"
   },
   "source": [
    "## Step 6: Recommendations\n",
    "\n",
    "**Based on the analysis, we recommend several actions to reduce fraud**:\n",
    "1. **Implement SIFT Score-Based Rules**:\n",
    "   - Transactions with a SIFT score above a certain threshold (e.g., 30) should trigger additional verification steps before being processed.\n",
    "   \n",
    "2. **Monitor Failed Charge Attempts**:\n",
    "   - Transactions with multiple failed charge attempts (e.g., within the past hour or day) should be flagged for review.\n",
    "\n",
    "3. **Tighten Controls for High-Value Orders**:\n",
    "   - Orders with a high Gross Order Value (e.g., above $35) should undergo stricter verification as fraudsters tend to place larger orders.\n"
   ]
  }
 ],
 "metadata": {
  "colab": {
   "provenance": []
  },
  "kernelspec": {
   "display_name": "Python 3 (ipykernel)",
   "language": "python",
   "name": "python3"
  },
  "language_info": {
   "codemirror_mode": {
    "name": "ipython",
    "version": 3
   },
   "file_extension": ".py",
   "mimetype": "text/x-python",
   "name": "python",
   "nbconvert_exporter": "python",
   "pygments_lexer": "ipython3",
   "version": "3.9.12"
  }
 },
 "nbformat": 4,
 "nbformat_minor": 5
}
